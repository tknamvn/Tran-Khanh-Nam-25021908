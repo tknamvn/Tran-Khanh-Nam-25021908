{
 "cells": [
  {
   "cell_type": "code",
   "execution_count": 4,
   "id": "ed4b1039-3362-4db4-8c0a-c540f2b89819",
   "metadata": {},
   "outputs": [
    {
     "name": "stdin",
     "output_type": "stream",
     "text": [
      " 2 4\n"
     ]
    },
    {
     "name": "stdout",
     "output_type": "stream",
     "text": [
      "8\n",
      "12\n"
     ]
    }
   ],
   "source": [
    "#Bai_1\n",
    "a,b= map(int,input().split())\n",
    "print(a*b)\n",
    "print((a+b)*2)"
   ]
  },
  {
   "cell_type": "code",
   "execution_count": 6,
   "id": "a511a35b-f171-4609-9b31-2033b9bc07cf",
   "metadata": {},
   "outputs": [
    {
     "name": "stdin",
     "output_type": "stream",
     "text": [
      " 3\n"
     ]
    },
    {
     "name": "stdout",
     "output_type": "stream",
     "text": [
      "28.26\n",
      "18.84\n"
     ]
    }
   ],
   "source": [
    "#Bai_2\n",
    "r= int(input())\n",
    "print(3.14*r**2)\n",
    "print(2*r*3.14)\n"
   ]
  },
  {
   "cell_type": "code",
   "execution_count": 19,
   "id": "751c839d-fd28-4aa7-af0a-51a1d9b256e6",
   "metadata": {},
   "outputs": [
    {
     "name": "stdin",
     "output_type": "stream",
     "text": [
      " 1 1 2\n"
     ]
    },
    {
     "name": "stdout",
     "output_type": "stream",
     "text": [
      "Khong la ba canh cua mot tam giac\n"
     ]
    }
   ],
   "source": [
    "#Bai_3\n",
    "a,b,c= map(int,input().split())\n",
    "\n",
    "if a+b>c and b+c>a and a+c>b and a>0 and b>0 and c>0:\n",
    "    if a==b==c:\n",
    "        print(\"tam giac deu\")\n",
    "    elif a==b or b==c or c==a:\n",
    "        print(\"tam giac can\")\n",
    "    elif a**2==b**2+c**2 or b**2==a**2+c**2 or c**2== a**2+b**2:\n",
    "        print(\"tam giac vuong\")\n",
    "    else:\n",
    "        print(\"tam giac thuong\")\n",
    "    p=(a+b+c)/2\n",
    "    S= format((p*(p-a)*(p-b)*(p-c))**(1/2),\".4f\")\n",
    "    print(\"S:\",S)\n",
    "    print(\"C:\", a+b+c)\n",
    "else:\n",
    "    print(\"Khong la ba canh cua mot tam giac\")\n"
   ]
  },
  {
   "cell_type": "code",
   "execution_count": 16,
   "id": "e698f29c-ef9a-4638-ba6e-435a95c53825",
   "metadata": {},
   "outputs": [
    {
     "name": "stdin",
     "output_type": "stream",
     "text": [
      "Nhap a,b:  4 5\n"
     ]
    },
    {
     "name": "stdout",
     "output_type": "stream",
     "text": [
      "x= -1.25\n"
     ]
    }
   ],
   "source": [
    "#Bai_4\n",
    "a,b= map(int,input(\"Nhap a,b: \").split())\n",
    "print(\"x=\", -b/a)"
   ]
  },
  {
   "cell_type": "code",
   "execution_count": 25,
   "id": "6c560b77-8783-42ed-b09b-d6f792a43e60",
   "metadata": {},
   "outputs": [
    {
     "name": "stdin",
     "output_type": "stream",
     "text": [
      "Nhap a,b,c:  2 7 3\n"
     ]
    },
    {
     "name": "stdout",
     "output_type": "stream",
     "text": [
      "x1= -0.5\n",
      "x2= -3.0\n"
     ]
    }
   ],
   "source": [
    "#Bai_5\n",
    "a,b,c= map(int,input(\"Nhap a,b,c: \").split())\n",
    "delta= b**2 -4*a*c\n",
    "if delta<0:\n",
    "    print(\"pt vo nghiem\")\n",
    "elif delta==0:\n",
    "    print(\"x=\", -b/(2*a))\n",
    "else:\n",
    "    print(\"x1=\",  (-b+ delta**(1/2)) /(2*a))\n",
    "    print(\"x2=\",  (-b- delta**(1/2)) /(2*a))"
   ]
  },
  {
   "cell_type": "code",
   "execution_count": 26,
   "id": "29cfeb4d-8037-45f9-ae1f-f6e5347c12a2",
   "metadata": {},
   "outputs": [
    {
     "name": "stdin",
     "output_type": "stream",
     "text": [
      " 9 10 24 5\n"
     ]
    },
    {
     "name": "stdout",
     "output_type": "stream",
     "text": [
      "max= 24\n"
     ]
    }
   ],
   "source": [
    "#Bai_6\n",
    "a,b,c,d= map(int,input().split())\n",
    "print(\"max=\",max(a,b,c,d))"
   ]
  },
  {
   "cell_type": "code",
   "execution_count": 27,
   "id": "8ced5705-0c6d-4a3c-b581-25000e5a25e3",
   "metadata": {},
   "outputs": [
    {
     "name": "stdin",
     "output_type": "stream",
     "text": [
      " 23 12 65 78\n"
     ]
    },
    {
     "name": "stdout",
     "output_type": "stream",
     "text": [
      "min= 12\n"
     ]
    }
   ],
   "source": [
    "#Bai_7\n",
    "a,b,c,d= map(int,input().split())\n",
    "print(\"min=\",min(a,b,c,d))"
   ]
  },
  {
   "cell_type": "code",
   "execution_count": 30,
   "id": "ab3f6424-fd44-450f-ad7e-422f7b3f865c",
   "metadata": {},
   "outputs": [
    {
     "name": "stdin",
     "output_type": "stream",
     "text": [
      " 2 1 5 1 -1 1\n"
     ]
    },
    {
     "name": "stdout",
     "output_type": "stream",
     "text": [
      "x= 2.0 y= 1.0\n"
     ]
    }
   ],
   "source": [
    "#Bai_8\n",
    "a,b,m,c,d,n= map(int,input().split())\n",
    "ti_so=a/c\n",
    "d*=ti_so\n",
    "n*=ti_so\n",
    "y=(m-n)/(b-d)\n",
    "x=(m-b*y)/a\n",
    "print(\"x=\",x,\"y=\",y)\n",
    "\n"
   ]
  },
  {
   "cell_type": "code",
   "execution_count": 34,
   "id": "9433fcd4-12cc-48f9-8b58-e639d1a2bf9c",
   "metadata": {},
   "outputs": [
    {
     "name": "stdin",
     "output_type": "stream",
     "text": [
      "nhap x giay:  2836382\n"
     ]
    },
    {
     "name": "stdout",
     "output_type": "stream",
     "text": [
      "787h53p2s\n"
     ]
    }
   ],
   "source": [
    "#Bai_9\n",
    "x=int(input(\"nhap x giay: \"))\n",
    "gio= x//3600\n",
    "x%=3600\n",
    "phut= x//60\n",
    "giay=x%60\n",
    "print(f\"{gio}h{phut}p{giay}s\")\n"
   ]
  },
  {
   "cell_type": "code",
   "execution_count": 35,
   "id": "d454415b-ba3f-46e1-8204-8810b0e7e8b7",
   "metadata": {},
   "outputs": [
    {
     "name": "stdin",
     "output_type": "stream",
     "text": [
      " 0 0 5\n",
      " 2 3\n"
     ]
    },
    {
     "name": "stdout",
     "output_type": "stream",
     "text": [
      "co\n"
     ]
    }
   ],
   "source": [
    "#Bai_10\n",
    "a,b,r= map(int,input().split())\n",
    "x,y=map(int,input().split())\n",
    "kc= ((x-a)**2+(y-b)**2)**(1/2)\n",
    "if kc> r:\n",
    "    print(\"khong\")\n",
    "else:\n",
    "    print(\"co\")\n",
    "    "
   ]
  },
  {
   "cell_type": "code",
   "execution_count": 36,
   "id": "e1ae72bf-c951-41c6-b60e-5aba0ff3bfc1",
   "metadata": {},
   "outputs": [
    {
     "name": "stdin",
     "output_type": "stream",
     "text": [
      " 2 3\n"
     ]
    },
    {
     "name": "stdout",
     "output_type": "stream",
     "text": [
      "8\n"
     ]
    }
   ],
   "source": [
    "#Bai_11\n",
    "x,y= map(int,input().split())\n",
    "print(x**y)"
   ]
  }
 ],
 "metadata": {
  "kernelspec": {
   "display_name": "Python 3 (ipykernel)",
   "language": "python",
   "name": "python3"
  },
  "language_info": {
   "codemirror_mode": {
    "name": "ipython",
    "version": 3
   },
   "file_extension": ".py",
   "mimetype": "text/x-python",
   "name": "python",
   "nbconvert_exporter": "python",
   "pygments_lexer": "ipython3",
   "version": "3.9.6"
  }
 },
 "nbformat": 4,
 "nbformat_minor": 5
}
