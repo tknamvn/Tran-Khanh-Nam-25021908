{
 "cells": [
  {
   "cell_type": "code",
   "execution_count": 2,
   "id": "d42076f1-d419-4f30-8237-a58fce38b75a",
   "metadata": {},
   "outputs": [
    {
     "name": "stdout",
     "output_type": "stream",
     "text": [
      "Hello World!\n"
     ]
    }
   ],
   "source": [
    "#W2A1\n",
    "print(\"Hello World!\")"
   ]
  },
  {
   "cell_type": "code",
   "execution_count": 6,
   "id": "4a6489e8-bb32-4932-b0bd-8fbb6d32b40f",
   "metadata": {},
   "outputs": [
    {
     "name": "stdin",
     "output_type": "stream",
     "text": [
      " 23 45\n"
     ]
    },
    {
     "name": "stdout",
     "output_type": "stream",
     "text": [
      "68\n"
     ]
    }
   ],
   "source": [
    "#W2A2\n",
    "'''\n",
    "a=input()\n",
    "b=input()\n",
    "c=a+b\n",
    "print(c)\n",
    "'''\n",
    "\n",
    "so1,so2= map(int,input().split())\n",
    "tong= so1 + so2\n",
    "print(tong)"
   ]
  },
  {
   "cell_type": "code",
   "execution_count": 16,
   "id": "f8e23dfa-31cb-4aee-a32c-b2e1b0e7fa30",
   "metadata": {},
   "outputs": [
    {
     "name": "stdin",
     "output_type": "stream",
     "text": [
      " 23 6\n"
     ]
    },
    {
     "name": "stdout",
     "output_type": "stream",
     "text": [
      "23 + 6= 29\n",
      "23 - 6= 17\n",
      "23 * 6= 138\n",
      "23 //6= 3\n",
      "23 % 6= 5\n",
      "23 / 6= 3.83\n"
     ]
    }
   ],
   "source": [
    "#W2A3\n",
    "a,b= map(int,input().split())\n",
    "print(f'{a} + {b}= {a+b}')\n",
    "print(f'{a} - {b}= {a-b}')\n",
    "print(f'{a} * {b}= {a*b}')\n",
    "print(f'{a} //{b}= {a//b}')\n",
    "print(f'{a} % {b}= {a%b}')\n",
    "print(f'{a} / {b}= {a/b:.2f}')\n",
    "\n",
    "\n"
   ]
  },
  {
   "cell_type": "code",
   "execution_count": 17,
   "id": "43f6289b-9979-4777-b7a0-ec4c0a30d993",
   "metadata": {},
   "outputs": [
    {
     "name": "stdin",
     "output_type": "stream",
     "text": [
      " 8 6 4 7 9 10\n"
     ]
    },
    {
     "name": "stdout",
     "output_type": "stream",
     "text": [
      "8.0\n"
     ]
    }
   ],
   "source": [
    "#W2A4\n",
    "a1,b1,c1,a2,b2,a3= map(int,input().split())\n",
    "TB= (a1+b1+c1+(a2+b2)*2+a3*3) / 10\n",
    "print(f'{TB:.1f}')"
   ]
  },
  {
   "cell_type": "code",
   "execution_count": 18,
   "id": "747bd140-d0e7-4d25-9a12-9c486afbfed4",
   "metadata": {},
   "outputs": [
    {
     "name": "stdin",
     "output_type": "stream",
     "text": [
      " 2 3\n"
     ]
    },
    {
     "name": "stdout",
     "output_type": "stream",
     "text": [
      "8\n"
     ]
    }
   ],
   "source": [
    "#W2A5\n",
    "a,b=map(int,input().split())\n",
    "print(f'{a**b}')"
   ]
  },
  {
   "cell_type": "code",
   "execution_count": 25,
   "id": "f43f46cc-56c0-484a-8184-ab39fcaf90c9",
   "metadata": {},
   "outputs": [
    {
     "name": "stdin",
     "output_type": "stream",
     "text": [
      " a\n"
     ]
    },
    {
     "name": "stdout",
     "output_type": "stream",
     "text": [
      "65 A\n"
     ]
    }
   ],
   "source": [
    "#W2A6\n",
    "s=input()\n",
    "s2=ord(s)-32\n",
    "print(s2,chr(s2))\n"
   ]
  },
  {
   "cell_type": "code",
   "execution_count": 26,
   "id": "3ec8ef81-079f-4ecf-98fc-2eb5eaad0e0c",
   "metadata": {},
   "outputs": [
    {
     "name": "stdout",
     "output_type": "stream",
     "text": [
      "512 512\n"
     ]
    }
   ],
   "source": [
    "#W2A7\n",
    "A=((13**2)*3)+5\n",
    "B=13**2*3+5\n",
    "print (A,B)"
   ]
  },
  {
   "cell_type": "code",
   "execution_count": 27,
   "id": "a374bc68-a40c-4b1b-a546-97217d05efe4",
   "metadata": {},
   "outputs": [
    {
     "name": "stdin",
     "output_type": "stream",
     "text": [
      " 28\n"
     ]
    },
    {
     "name": "stdout",
     "output_type": "stream",
     "text": [
      "82.40\n"
     ]
    }
   ],
   "source": [
    "#W2A8\n",
    "C=int(input())\n",
    "F=(9/5)*C +32\n",
    "print(f'{F:.2f}')"
   ]
  },
  {
   "cell_type": "code",
   "execution_count": 29,
   "id": "2a952197-98ac-453a-8eb9-380a83e8eba8",
   "metadata": {},
   "outputs": [
    {
     "name": "stdin",
     "output_type": "stream",
     "text": [
      " 10\n"
     ]
    },
    {
     "name": "stdout",
     "output_type": "stream",
     "text": [
      "28.00\n"
     ]
    }
   ],
   "source": [
    "#W2A9\n",
    "x=int(input())\n",
    "Tong= (x+10)*1.4\n",
    "print(f'{Tong:.2f}')"
   ]
  },
  {
   "cell_type": "code",
   "execution_count": null,
   "id": "c1cf8b06-93e2-421b-848d-c5a2a1dc2006",
   "metadata": {},
   "outputs": [],
   "source": [
    "#W2A10\n"
   ]
  }
 ],
 "metadata": {
  "kernelspec": {
   "display_name": "Python 3 (ipykernel)",
   "language": "python",
   "name": "python3"
  },
  "language_info": {
   "codemirror_mode": {
    "name": "ipython",
    "version": 3
   },
   "file_extension": ".py",
   "mimetype": "text/x-python",
   "name": "python",
   "nbconvert_exporter": "python",
   "pygments_lexer": "ipython3",
   "version": "3.9.6"
  }
 },
 "nbformat": 4,
 "nbformat_minor": 5
}
