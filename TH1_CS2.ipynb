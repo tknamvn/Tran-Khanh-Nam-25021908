{
 "cells": [
  {
   "cell_type": "code",
   "execution_count": 20,
   "id": "c40a30c7-bca3-4796-a68d-27e6bddad87e",
   "metadata": {},
   "outputs": [
    {
     "name": "stdout",
     "output_type": "stream",
     "text": [
      "2\n"
     ]
    }
   ],
   "source": [
    "#W1A1\n",
    "a = 7              # Gán giá trị 7 cho biến a\n",
    "b = 5              # Gán giá trị 5 cho biến b\n",
    "c = a - b          # Lấy a trừ b (7 - 5 = 2), kết quả gán cho biến c\n",
    "print(c)           # In ra giá trị của c\n"
   ]
  },
  {
   "cell_type": "code",
   "execution_count": 19,
   "id": "bfaa3e8f-9a76-41da-a8be-72b12dd5701f",
   "metadata": {},
   "outputs": [
    {
     "name": "stdout",
     "output_type": "stream",
     "text": [
      "Thành phố:  Hà Nội - Năm:  2025\n"
     ]
    }
   ],
   "source": [
    "#W1A2\n",
    "city = \"Hà Nội\"                          # Tạo biến city và gán giá trị chuỗi \"Hà Nội\"\n",
    "year = 2025                              # Tạo biến year và gán giá trị số nguyên 2025\n",
    "print(\"Thành phố: \", city, \"- Năm: \", year)   # In ra màn hình chuỗi \"Thành phố: \" kèm giá trị của city,\n",
    "                                              # rồi thêm \"- Năm: \" kèm giá trị của year\n"
   ]
  },
  {
   "cell_type": "code",
   "execution_count": 18,
   "id": "e7300433-c173-47d8-9210-acc10bbc5fd8",
   "metadata": {},
   "outputs": [
    {
     "name": "stdout",
     "output_type": "stream",
     "text": [
      "10\n"
     ]
    }
   ],
   "source": [
    "#W1A3\n",
    "n = 4                          # Gán giá trị 4 cho biến n (số lần cần cộng)\n",
    "t = 0                          # Tạo biến t để lưu tổng, ban đầu bằng 0\n",
    "\n",
    "for i in range(1, n+1):        # Vòng lặp chạy từ 1 đến n (ở đây là 1 → 4)\n",
    "    t += i                     # Cộng dồn i vào t (t = t + i)\n",
    "\n",
    "print(t)                       # In ra kết quả cuối cùng của tổng\n",
    "\n"
   ]
  },
  {
   "cell_type": "code",
   "execution_count": 17,
   "id": "1402cd38-f362-4bcd-8edb-0cae3d35bd6d",
   "metadata": {},
   "outputs": [
    {
     "name": "stdout",
     "output_type": "stream",
     "text": [
      "1 là số lẻ\n",
      "2 là số chẵn\n",
      "3 là số lẻ\n",
      "4 là số chẵn\n"
     ]
    }
   ],
   "source": [
    "#W1A4\n",
    "numbers = [1, 2, 3, 4]              # Tạo một danh sách gồm các số: 1, 2, 3, 4\n",
    "for x in numbers:                   # Vòng lặp duyệt qua từng phần tử trong danh sách, lần lượt gán vào biến x\n",
    "    if x % 2 == 0:                  # Kiểm tra nếu x chia hết cho 2 (tức là số chẵn)\n",
    "        print(x, \"là số chẵn\")      # Nếu đúng, in ra x kèm chữ \"là số chẵn\"\n",
    "    else:                           # Ngược lại (không chia hết cho 2, tức là số lẻ)\n",
    "        print(x, \"là số lẻ\")        # In ra x kèm chữ \"là số lẻ\"\n"
   ]
  },
  {
   "cell_type": "code",
   "execution_count": 9,
   "id": "ff79293e-f82e-4726-854a-6e0846174528",
   "metadata": {},
   "outputs": [
    {
     "name": "stdout",
     "output_type": "stream",
     "text": [
      "Số phần tử trong danh sách là: 4\n"
     ]
    }
   ],
   "source": [
    "#W1A5\n",
    "animals = [\"cat\", \"dog\", \"cat\", \"bird\"]   # Tạo một danh sách (list) gồm 4 phần tử: \"cat\", \"dog\", \"cat\", \"bird\"\n",
    "\n",
    "count = 0                                # Khởi tạo biến đếm count = 0 để bắt đầu đếm số phần tử\n",
    "\n",
    "for a in animals:                        # Duyệt qua từng phần tử trong danh sách animals\n",
    "    count += 1                           # Mỗi lần lặp, cộng thêm 1 vào count\n",
    "\n",
    "print(\"Số phần tử trong danh sách là:\", count)   # In ra kết quả cuối cùng, chính là số phần tử trong danh sách\n",
    "\n"
   ]
  },
  {
   "cell_type": "code",
   "execution_count": 16,
   "id": "f9a63862-b348-49f5-b1b4-fd6b11834fd5",
   "metadata": {},
   "outputs": [
    {
     "name": "stdout",
     "output_type": "stream",
     "text": [
      "=== AI Prediction System ===\n",
      "(1) Sentiment analysis\n",
      "(2) Weather forecast\n",
      "(3) Exit\n",
      "Please choose an option.\n"
     ]
    }
   ],
   "source": [
    "#W1A6\n",
    "print(\"=== AI Prediction System ===\")   # In ra tiêu đề chương trình. Các dấu \"=\" ở đây chỉ để trang trí, không mang ý nghĩa code.\n",
    "print(\"(1) Sentiment analysis\")         # In dòng menu số 1: \"Sentiment analysis\" (phân tích cảm xúc).\n",
    "print(\"(2) Weather forecast\")           # In dòng menu số 2: \"Weather forecast\" (dự báo thời tiết).\n",
    "print(\"(3) Exit\")                       # In dòng menu số 3: \"Exit\" (thoát chương trình).\n",
    "print(\"Please choose an option.\")       # In lời nhắc yêu cầu người dùng chọn 1 tùy chọn.\n"
   ]
  },
  {
   "cell_type": "code",
   "execution_count": 10,
   "id": "37ecef48-2228-4a1d-9f87-96c66b110fd8",
   "metadata": {},
   "outputs": [
    {
     "name": "stdin",
     "output_type": "stream",
     "text": [
      "Nhập số:  5\n"
     ]
    },
    {
     "name": "stdout",
     "output_type": "stream",
     "text": [
      "Số lẻ\n"
     ]
    }
   ],
   "source": [
    "#W1A7\n",
    "num = int(input(\"Nhập số: \"))   # ép kiểu sang số nguyên\n",
    "if num % 2 == 0:                # dùng == để so sánh\n",
    "    print(\"Số chẵn\")\n",
    "else:\n",
    "    print(\"Số lẻ\")\n"
   ]
  },
  {
   "cell_type": "code",
   "execution_count": 11,
   "id": "bc9b0406-d53a-4125-be5d-64f938c8c4b9",
   "metadata": {},
   "outputs": [
    {
     "name": "stdout",
     "output_type": "stream",
     "text": [
      "AI đang học lần 1\n",
      "Huấn luyện xong!\n",
      "AI đang học lần 2\n",
      "Huấn luyện xong!\n",
      "AI đang học lần 3\n",
      "Huấn luyện xong!\n"
     ]
    }
   ],
   "source": [
    "#W1A8\n",
    "for i in range(3):                     # Vòng lặp chạy 3 lần (i = 0, 1, 2)\n",
    "    print(\"AI đang học lần\", i+1)      # In ra số lần học, i+1 để hiển thị từ 1 đến 3 thay vì 0 đến 2\n",
    "    print(\"Huấn luyện xong!\")          # Sau mỗi lần học, in ra thông báo đã huấn luyện xong"
   ]
  },
  {
   "cell_type": "code",
   "execution_count": 13,
   "id": "5dfd1a27-31ee-4a2c-b524-a58abdfef7ac",
   "metadata": {},
   "outputs": [
    {
     "name": "stdout",
     "output_type": "stream",
     "text": [
      "Dự đoán con vật cat\n",
      "Dự đoán con vật dog\n",
      "Dự đoán con vật fish\n"
     ]
    }
   ],
   "source": [
    "#W1A9\n",
    "for x in [\"cat\", \"dog\", \"fish\"]:        # Vòng lặp duyệt qua danh sách gồm 3 phần tử: \"cat\", \"dog\", \"fish\"\n",
    "    print(\"Dự đoán con vật\", x)         # Mỗi lần lặp sẽ in ra \"Dự đoán con vật\" kèm theo giá trị của x"
   ]
  },
  {
   "cell_type": "code",
   "execution_count": 15,
   "id": "f07c7805-af33-4ab8-9b2b-067e2917161a",
   "metadata": {},
   "outputs": [
    {
     "name": "stdout",
     "output_type": "stream",
     "text": [
      "=== AI Prediction System ===\n",
      "(1) Sentiment analysis\n",
      "(2) Weather forecast\n",
      "(3) Exit\n",
      "Please choose an option.\n"
     ]
    }
   ],
   "source": [
    "#W1A10\n",
    "# Simple menu\n",
    "\n",
    "print(\"=== AI Prediction System ===\")  # Fixed: Removed extra parentheses and corrected quotation marks\n",
    "print(\"(1) Sentiment analysis\")    # Fixed: Removed extra parentheses\n",
    "print(\"(2) Weather forecast\")      # Fixed: Removed extra parentheses\n",
    "print(\"(3) Exit\")                  # Fixed: Removed extra parentheses\n",
    "print(\"Please choose an option.\")  # Fixed: Removed extra parentheses\n",
    "\n",
    "# Notes:\n",
    "# 1. The original code had multiple syntax errors due to extra parentheses around print statements, which are not needed in Python 3.x.\n",
    "# 2. Quotation marks were mismatched; they are now consistently corrected.\n",
    "# 3. The code now runs without errors and displays a simple menu as intended."
   ]
  },
  {
   "cell_type": "code",
   "execution_count": null,
   "id": "0461a5d1-a7f9-4319-972e-f59990390cec",
   "metadata": {},
   "outputs": [],
   "source": []
  }
 ],
 "metadata": {
  "kernelspec": {
   "display_name": "Python 3 (ipykernel)",
   "language": "python",
   "name": "python3"
  },
  "language_info": {
   "codemirror_mode": {
    "name": "ipython",
    "version": 3
   },
   "file_extension": ".py",
   "mimetype": "text/x-python",
   "name": "python",
   "nbconvert_exporter": "python",
   "pygments_lexer": "ipython3",
   "version": "3.9.6"
  }
 },
 "nbformat": 4,
 "nbformat_minor": 5
}
